{
 "cells": [
  {
   "cell_type": "code",
   "execution_count": 4,
   "metadata": {},
   "outputs": [],
   "source": [
    "from machine129 import translabel\n",
    "import os"
   ]
  },
  {
   "cell_type": "code",
   "execution_count": 2,
   "metadata": {},
   "outputs": [
    {
     "data": {
      "text/plain": [
       "'d:\\\\Final_Project\\\\Git_repositories\\\\IMG'"
      ]
     },
     "execution_count": 2,
     "metadata": {},
     "output_type": "execute_result"
    }
   ],
   "source": [
    "%pwd"
   ]
  },
  {
   "cell_type": "code",
   "execution_count": 3,
   "metadata": {},
   "outputs": [
    {
     "name": "stdout",
     "output_type": "stream",
     "text": [
      "d:\\Final_Project\\Git_repositories\\IMG\\data\\Label\n"
     ]
    }
   ],
   "source": [
    "%cd data/Label"
   ]
  },
  {
   "cell_type": "code",
   "execution_count": 12,
   "metadata": {},
   "outputs": [
    {
     "data": {
      "text/plain": [
       "19"
      ]
     },
     "execution_count": 12,
     "metadata": {},
     "output_type": "execute_result"
    }
   ],
   "source": [
    "label_file_list = os.listdir()\n",
    "len(label_file_list)"
   ]
  },
  {
   "cell_type": "code",
   "execution_count": 22,
   "metadata": {},
   "outputs": [],
   "source": [
    "for foldername in label_file_list:\n",
    "    name1 = foldername.lstrip('labels_')\n",
    "    num = name1[:name1.find('_')] # 폴더명 _앞 까지 숫자부분\n",
    "    translabel.translabel(foldername, num)"
   ]
  },
  {
   "cell_type": "code",
   "execution_count": 28,
   "metadata": {},
   "outputs": [],
   "source": [
    "import glob\n",
    "import zipfile"
   ]
  },
  {
   "cell_type": "code",
   "execution_count": 29,
   "metadata": {},
   "outputs": [
    {
     "data": {
      "text/plain": [
       "['D:\\\\Final_Project\\\\Git_repositories\\\\IMG\\\\data\\\\Label\\\\trans_labels_0_잡곡밥',\n",
       " 'D:\\\\Final_Project\\\\Git_repositories\\\\IMG\\\\data\\\\Label\\\\trans_labels_10_불고기',\n",
       " 'D:\\\\Final_Project\\\\Git_repositories\\\\IMG\\\\data\\\\Label\\\\trans_labels_11_애호박볶음',\n",
       " 'D:\\\\Final_Project\\\\Git_repositories\\\\IMG\\\\data\\\\Label\\\\trans_labels_12_무생채',\n",
       " 'D:\\\\Final_Project\\\\Git_repositories\\\\IMG\\\\data\\\\Label\\\\trans_labels_13_잡채',\n",
       " 'D:\\\\Final_Project\\\\Git_repositories\\\\IMG\\\\data\\\\Label\\\\trans_labels_14_무국',\n",
       " 'D:\\\\Final_Project\\\\Git_repositories\\\\IMG\\\\data\\\\Label\\\\trans_labels_15_고등어구이',\n",
       " 'D:\\\\Final_Project\\\\Git_repositories\\\\IMG\\\\data\\\\Label\\\\trans_labels_16_쌀밥',\n",
       " 'D:\\\\Final_Project\\\\Git_repositories\\\\IMG\\\\data\\\\Label\\\\trans_labels_17_계란후라이',\n",
       " 'D:\\\\Final_Project\\\\Git_repositories\\\\IMG\\\\data\\\\Label\\\\trans_labels_18_계란말이',\n",
       " 'D:\\\\Final_Project\\\\Git_repositories\\\\IMG\\\\data\\\\Label\\\\trans_labels_1_배추김치',\n",
       " 'D:\\\\Final_Project\\\\Git_repositories\\\\IMG\\\\data\\\\Label\\\\trans_labels_2_된장찌개',\n",
       " 'D:\\\\Final_Project\\\\Git_repositories\\\\IMG\\\\data\\\\Label\\\\trans_labels_3_김치찌개',\n",
       " 'D:\\\\Final_Project\\\\Git_repositories\\\\IMG\\\\data\\\\Label\\\\trans_labels_4_멸치볶음',\n",
       " 'D:\\\\Final_Project\\\\Git_repositories\\\\IMG\\\\data\\\\Label\\\\trans_labels_5_시금치나물',\n",
       " 'D:\\\\Final_Project\\\\Git_repositories\\\\IMG\\\\data\\\\Label\\\\trans_labels_6_가지나물',\n",
       " 'D:\\\\Final_Project\\\\Git_repositories\\\\IMG\\\\data\\\\Label\\\\trans_labels_7_고사리나물',\n",
       " 'D:\\\\Final_Project\\\\Git_repositories\\\\IMG\\\\data\\\\Label\\\\trans_labels_8_미역국',\n",
       " 'D:\\\\Final_Project\\\\Git_repositories\\\\IMG\\\\data\\\\Label\\\\trans_labels_9_김밥']"
      ]
     },
     "execution_count": 29,
     "metadata": {},
     "output_type": "execute_result"
    }
   ],
   "source": [
    "folder_list = glob.glob('D:\\\\Final_Project\\\\Git_repositories\\\\IMG\\\\data\\\\Label\\\\trans_*')\n",
    "folder_list"
   ]
  },
  {
   "cell_type": "code",
   "execution_count": 35,
   "metadata": {},
   "outputs": [],
   "source": [
    "for foldername in folder_list:\n",
    "    nopath_foldername = foldername.lstrip('D:\\\\Final_Project\\\\Git_repositories\\\\IMG\\\\data\\\\Label\\\\')\n",
    "    os.chdir(foldername + '\\\\')\n",
    "    txtlist = glob.glob('*.txt')\n",
    "    with zipfile.ZipFile('{}.zip'.format(nopath_foldername), 'w') as f:\n",
    "        for txtfile in txtlist:\n",
    "            f.write(txtfile)"
   ]
  },
  {
   "cell_type": "code",
   "execution_count": null,
   "metadata": {},
   "outputs": [],
   "source": []
  }
 ],
 "metadata": {
  "interpreter": {
   "hash": "7a3797ff0740a9cbadd9c600bf21f2653a6a89c7ec81ce67cdd9a6091edd8408"
  },
  "kernelspec": {
   "display_name": "Python 3.6.13 ('ml')",
   "language": "python",
   "name": "python3"
  },
  "language_info": {
   "codemirror_mode": {
    "name": "ipython",
    "version": 3
   },
   "file_extension": ".py",
   "mimetype": "text/x-python",
   "name": "python",
   "nbconvert_exporter": "python",
   "pygments_lexer": "ipython3",
   "version": "3.6.13"
  },
  "orig_nbformat": 4
 },
 "nbformat": 4,
 "nbformat_minor": 2
}
