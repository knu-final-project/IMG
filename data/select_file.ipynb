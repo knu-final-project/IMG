{
 "cells": [
  {
   "cell_type": "code",
   "execution_count": 22,
   "metadata": {},
   "outputs": [],
   "source": [
    "import pandas as pd\n",
    "import os, zipfile, glob\n",
    "import shutil"
   ]
  },
  {
   "cell_type": "code",
   "execution_count": null,
   "metadata": {},
   "outputs": [],
   "source": [
    "%cd data"
   ]
  },
  {
   "cell_type": "code",
   "execution_count": 40,
   "metadata": {},
   "outputs": [
    {
     "name": "stdout",
     "output_type": "stream",
     "text": [
      "1. 배추김치\n",
      "trans_labels_10_불고기\n"
     ]
    }
   ],
   "source": [
    "print(folder_list[num])\n",
    "print(label_folder_list[num])"
   ]
  },
  {
   "cell_type": "code",
   "execution_count": 63,
   "metadata": {},
   "outputs": [],
   "source": [
    "folder_list = os.listdir()[:19] # IMG파일이 있는 폴더 리스트 19개 0~18\n",
    "label_folder_list = os.listdir('Label') # 라벨링 폴더 리스트 19개 0~18\n",
    "\n",
    "\n",
    "# 라벨링 폴더 이름 기준으로 맞는 폴더 찾기 (라벨 없는 이미지 걸러내기 위함)\n",
    "for label_folder_name in label_folder_list:\n",
    "    # 1. 라벨링 폴더와 맞는 이미지 폴더 찾기\n",
    "    lstrip_folder_name = label_folder_name.lstrip('trans_labels_') # 공통부분 떼버리고\n",
    "    find_foodname = lstrip_folder_name.find('_') # 구분할수 있는 위치 찾아서\n",
    "    foodname = lstrip_folder_name[find_foodname+1:] # 구분\n",
    "\n",
    "    food_img_folder = ''\n",
    "    for x in folder_list:\n",
    "        if foodname in x:\n",
    "            food_img_folder = x # 라벨링 폴더이름 같은 음식사진이 있는 폴더 명 food_img_folder\n",
    "    \n",
    "    # 새로 넣을 이미지 폴더 만들기\n",
    "    new_img_folder = food_img_folder + 'New'\n",
    "    if not os.path.isdir(new_img_folder):\n",
    "        os.makedirs(new_img_folder)\n",
    "    \n",
    "    # 2. 라벨링 폴더안의 txt 리스트 뽑아내기 \n",
    "    txtlist = glob.glob('Label\\\\{}\\\\*.txt'.format(label_folder_name)) # 라벨링 폴더 안의 라벨 txt 리스트\n",
    "\n",
    "    # 라벨링 파일 이름\n",
    "    file_list = []\n",
    "    for txt_name in txtlist:\n",
    "        filenametxt = txt_name.lstrip('Label\\\\')[txt_name.lstrip('Label\\\\').find('\\\\')+1:]\n",
    "        filename = filenametxt.rstrip('.txt') # 라벨링 파일 이름.\n",
    "        file_list.append(filename)\n",
    "\n",
    "    # 3. 라벨링 있는 이미지만 복사해서 새 폴더에 넣어주기\n",
    "    for file in file_list:\n",
    "        filename = glob.glob(food_img_folder + '\\\\' + file + '*')[0]\n",
    "        newfilename = new_img_folder + '\\\\' + file + '.jpg'\n",
    "        shutil.copyfile(filename, newfilename)"
   ]
  },
  {
   "cell_type": "code",
   "execution_count": 59,
   "metadata": {},
   "outputs": [
    {
     "data": {
      "text/plain": [
       "['0. 잡곡밥\\\\Img_076_0000.JPG']"
      ]
     },
     "execution_count": 59,
     "metadata": {},
     "output_type": "execute_result"
    }
   ],
   "source": [
    "glob.glob('0. 잡곡밥\\\\Img_076_0000*')"
   ]
  },
  {
   "cell_type": "code",
   "execution_count": null,
   "metadata": {},
   "outputs": [],
   "source": []
  }
 ],
 "metadata": {
  "interpreter": {
   "hash": "7a3797ff0740a9cbadd9c600bf21f2653a6a89c7ec81ce67cdd9a6091edd8408"
  },
  "kernelspec": {
   "display_name": "Python 3.6.13 ('ml')",
   "language": "python",
   "name": "python3"
  },
  "language_info": {
   "codemirror_mode": {
    "name": "ipython",
    "version": 3
   },
   "file_extension": ".py",
   "mimetype": "text/x-python",
   "name": "python",
   "nbconvert_exporter": "python",
   "pygments_lexer": "ipython3",
   "version": "3.6.13"
  },
  "orig_nbformat": 4
 },
 "nbformat": 4,
 "nbformat_minor": 2
}
