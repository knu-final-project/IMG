{
 "cells": [
  {
   "cell_type": "code",
   "execution_count": 8,
   "metadata": {},
   "outputs": [],
   "source": [
    "import pandas as pd\n",
    "import glob\n",
    "import os\n",
    "import shutil"
   ]
  },
  {
   "cell_type": "code",
   "execution_count": 5,
   "metadata": {},
   "outputs": [],
   "source": [
    "filelist = glob.glob('D:\\\\Final_Project\\\\Git_repositories\\\\sas_view\\\\use_code\\\\음식사진\\\\계란후라이\\\\*.jpg')"
   ]
  },
  {
   "cell_type": "code",
   "execution_count": 10,
   "metadata": {},
   "outputs": [],
   "source": [
    "# 혜림쿤이 크롤링한 계란후라이 74장\n",
    "name = '계란후라이'\n",
    "old_file_path = 'D:\\\\Final_Project\\\\Git_repositories\\\\sas_view\\\\use_code\\\\음식사진\\\\{}'.format(name)\n",
    "filelist = glob.glob(old_file_path + '\\\\*.jpg')\n",
    "new_file_path = 'D:\\\\Final_Project\\\\Data\\\\Img\\\\{}'.format(name)\n",
    "\n",
    "if not os.path.isdir(new_file_path):\n",
    "    os.makedirs(new_file_path)\n",
    "\n",
    "for file in filelist:\n",
    "    filename = file.lstrip(old_file_path + '\\\\')\n",
    "    newfilename = new_file_path + '\\\\Img_' + filename.lstrip('{}'.format(name))\n",
    "    shutil.copyfile(file, newfilename)\n"
   ]
  },
  {
   "cell_type": "code",
   "execution_count": 23,
   "metadata": {},
   "outputs": [
    {
     "name": "stdout",
     "output_type": "stream",
     "text": [
      "jpg파일 수 : 491\n",
      "전체 파일 수 : 540\n"
     ]
    }
   ],
   "source": [
    "# bing에서 계란후라이 추가 크롤링 500장\n",
    "name = '계란후라이'\n",
    "old_file_path = 'D:\\\\Final_Project\\\\Data\\\\Img\\\\Drive_Download\\\\{}'.format(name)\n",
    "filelist = glob.glob(old_file_path + '\\\\*.jpg')\n",
    "new_file_path = 'D:\\\\Final_Project\\\\Data\\\\Img\\\\{}'.format(name)\n",
    "\n",
    "if not os.path.isdir(new_file_path):\n",
    "    os.makedirs(new_file_path)\n",
    "\n",
    "print('jpg파일 수 : {}'.format(len(filelist)))\n",
    "filelist2 = glob.glob(old_file_path + '\\\\*')\n",
    "print('전체 파일 수 : {}'.format(len(filelist2)))\n",
    "\n",
    "for file in filelist:\n",
    "    filename = file.lstrip(old_file_path + '\\\\')\n",
    "    newfilenum = int(filename.lstrip('{}'.format('Image_')).rstrip('.jpg').rstrip('.JPG')) + 74\n",
    "    newfilename = new_file_path + '\\\\Img_' + str(newfilenum) + '.jpg'\n",
    "    shutil.copyfile(file, newfilename)"
   ]
  },
  {
   "cell_type": "code",
   "execution_count": 39,
   "metadata": {},
   "outputs": [
    {
     "name": "stdout",
     "output_type": "stream",
     "text": [
      "jpg파일 수 : 505\n",
      "전체 파일 수 : 544\n",
      "(1) 수 : 13\n",
      "(1) 제외 수 : 492\n"
     ]
    }
   ],
   "source": [
    "# bing 에서 크롤링한 계란말이 500장\n",
    "name = '계란말이'\n",
    "old_file_path = 'D:\\\\Final_Project\\\\Data\\\\Img\\\\Drive_Download\\\\{}'.format(name)\n",
    "filelist = glob.glob(old_file_path + '\\\\*.jpg') # jpg 대소문자 구별X\n",
    "new_file_path = 'D:\\\\Final_Project\\\\Data\\\\Img\\\\{}'.format(name)\n",
    "\n",
    "if not os.path.isdir(new_file_path):\n",
    "    os.makedirs(new_file_path)\n",
    "\n",
    "print('jpg파일 수 : {}'.format(len(filelist)))\n",
    "\n",
    "filelist2 = glob.glob(old_file_path + '\\\\*')\n",
    "print('전체 파일 수 : {}'.format(len(filelist2)))\n",
    "\n",
    "filelist3 = glob.glob(old_file_path + '\\\\*(1).jpg')\n",
    "print('(1) 수 : {}'.format(len(filelist3)))\n",
    "\n",
    "filelist4 = filelist\n",
    "for rmfile in filelist3:\n",
    "    filelist4.remove(rmfile)\n",
    "print('(1) 제외 수 : {}'.format(len(filelist4)))\n",
    "\n",
    "# 숫자.jpg 파일 ((1)가 없는 파일들)\n",
    "for file in filelist4:\n",
    "    filename = file.lstrip(old_file_path + '\\\\')\n",
    "    newfilenum = int(filename.lstrip('{}'.format('Image_')).rstrip('.jpg').rstrip('.JPG'))\n",
    "    newfilename = new_file_path + '\\\\Img_' + str(newfilenum) + '.jpg'\n",
    "    shutil.copyfile(file, newfilename)\n",
    "\n",
    "# 숫자(1).jpg 파일 501 이후로 저장\n",
    "cnt = 500\n",
    "for file in filelist3:\n",
    "    filename = file.lstrip(old_file_path + '\\\\')\n",
    "    cnt = cnt + 1\n",
    "    newfilename = new_file_path + '\\\\Img_' + str(cnt) + '.jpg'\n",
    "    shutil.copyfile(file, newfilename)\n"
   ]
  },
  {
   "cell_type": "code",
   "execution_count": 40,
   "metadata": {},
   "outputs": [
    {
     "name": "stdout",
     "output_type": "stream",
     "text": [
      "jpg파일 수 : 500\n",
      "전체 파일 수 : 534\n",
      "(1) 수 : 7\n",
      "(1) 제외 수 : 493\n"
     ]
    }
   ],
   "source": [
    "# 쌀밥 500장\n",
    "name = '쌀밥'\n",
    "old_file_path = 'D:\\\\Final_Project\\\\Data\\\\Img\\\\Drive_Download\\\\{}'.format(name)\n",
    "filelist = glob.glob(old_file_path + '\\\\*.jpg') # jpg 대소문자 구별X\n",
    "new_file_path = 'D:\\\\Final_Project\\\\Data\\\\Img\\\\{}'.format(name)\n",
    "\n",
    "if not os.path.isdir(new_file_path):\n",
    "    os.makedirs(new_file_path)\n",
    "\n",
    "print('jpg파일 수 : {}'.format(len(filelist)))\n",
    "\n",
    "filelist2 = glob.glob(old_file_path + '\\\\*')\n",
    "print('전체 파일 수 : {}'.format(len(filelist2)))\n",
    "\n",
    "filelist3 = glob.glob(old_file_path + '\\\\*(1).jpg')\n",
    "print('(1) 수 : {}'.format(len(filelist3)))\n",
    "\n",
    "filelist4 = filelist\n",
    "for rmfile in filelist3:\n",
    "    filelist4.remove(rmfile)\n",
    "print('(1) 제외 수 : {}'.format(len(filelist4)))\n",
    "\n",
    "# 숫자.jpg 파일 ((1)가 없는 파일들)\n",
    "for file in filelist4:\n",
    "    filename = file.lstrip(old_file_path + '\\\\')\n",
    "    newfilenum = int(filename.lstrip('{}'.format('Image_')).rstrip('.jpg').rstrip('.JPG'))\n",
    "    newfilename = new_file_path + '\\\\Img_' + str(newfilenum) + '.jpg'\n",
    "    shutil.copyfile(file, newfilename)\n",
    "\n",
    "# 숫자(1).jpg 파일 501 이후로 저장\n",
    "cnt = 500\n",
    "for file in filelist3:\n",
    "    filename = file.lstrip(old_file_path + '\\\\')\n",
    "    cnt = cnt + 1\n",
    "    newfilename = new_file_path + '\\\\Img_' + str(cnt) + '.jpg'\n",
    "    shutil.copyfile(file, newfilename)"
   ]
  },
  {
   "cell_type": "code",
   "execution_count": null,
   "metadata": {},
   "outputs": [],
   "source": []
  }
 ],
 "metadata": {
  "interpreter": {
   "hash": "7a3797ff0740a9cbadd9c600bf21f2653a6a89c7ec81ce67cdd9a6091edd8408"
  },
  "kernelspec": {
   "display_name": "Python 3.6.13 ('ml')",
   "language": "python",
   "name": "python3"
  },
  "language_info": {
   "codemirror_mode": {
    "name": "ipython",
    "version": 3
   },
   "file_extension": ".py",
   "mimetype": "text/x-python",
   "name": "python",
   "nbconvert_exporter": "python",
   "pygments_lexer": "ipython3",
   "version": "3.6.13"
  },
  "orig_nbformat": 4
 },
 "nbformat": 4,
 "nbformat_minor": 2
}
