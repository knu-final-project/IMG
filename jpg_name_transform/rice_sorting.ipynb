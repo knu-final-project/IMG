{
 "cells": [
  {
   "cell_type": "code",
   "execution_count": 2,
   "metadata": {},
   "outputs": [],
   "source": [
    "import pandas as pd\n",
    "import glob\n",
    "import os\n",
    "import shutil"
   ]
  },
  {
   "cell_type": "code",
   "execution_count": 6,
   "metadata": {},
   "outputs": [],
   "source": [
    "filelist = glob.glob('D:\\\\Final_Project\\\\Data\\\\Img\\\\쌀밥\\\\*.jpg')"
   ]
  },
  {
   "cell_type": "code",
   "execution_count": 7,
   "metadata": {},
   "outputs": [
    {
     "data": {
      "text/plain": [
       "154"
      ]
     },
     "execution_count": 7,
     "metadata": {},
     "output_type": "execute_result"
    }
   ],
   "source": [
    "len(filelist)"
   ]
  },
  {
   "cell_type": "code",
   "execution_count": 9,
   "metadata": {},
   "outputs": [],
   "source": [
    "# 쌀밥 정렬 (154장)\n",
    "old_file_path = 'D:\\\\Final_Project\\\\Data\\\\Img\\\\쌀밥'\n",
    "filelist = glob.glob(old_file_path + '\\\\*.jpg')\n",
    "new_file_path = 'D:\\\\Final_Project\\\\Data\\\\Img\\\\16. 쌀밥'\n",
    "\n",
    "if not os.path.isdir(new_file_path):\n",
    "    os.makedirs(new_file_path)\n",
    "\n",
    "cnt = 0\n",
    "for file in filelist:\n",
    "    cnt += 1\n",
    "    filename = file.lstrip(old_file_path + '\\\\')\n",
    "    newfilename = new_file_path + '\\\\Img_' + str(cnt) + '.jpg'\n",
    "    shutil.copyfile(file, newfilename)"
   ]
  },
  {
   "cell_type": "code",
   "execution_count": 5,
   "metadata": {},
   "outputs": [],
   "source": [
    "# 쌀밥 정렬 (추가 134장)\n",
    "old_file_path = 'D:\\\\Final_Project\\\\Data\\\\Img\\\\쌀밥_134장'\n",
    "filelist = glob.glob(old_file_path + '\\\\*.jpg')\n",
    "new_file_path = 'D:\\\\Final_Project\\\\Data\\\\Img\\\\16.쌀밥'\n",
    "\n",
    "if not os.path.isdir(new_file_path):\n",
    "    os.makedirs(new_file_path)\n",
    "\n",
    "cnt = 154\n",
    "for file in filelist:\n",
    "    cnt += 1\n",
    "    filename = file.lstrip(old_file_path + '\\\\')\n",
    "    newfilename = new_file_path + '\\\\Img_' + str(cnt) + '.jpg'\n",
    "    shutil.copyfile(file, newfilename)"
   ]
  },
  {
   "cell_type": "code",
   "execution_count": 3,
   "metadata": {},
   "outputs": [
    {
     "data": {
      "text/plain": [
       "135"
      ]
     },
     "execution_count": 3,
     "metadata": {},
     "output_type": "execute_result"
    }
   ],
   "source": []
  },
  {
   "cell_type": "code",
   "execution_count": null,
   "metadata": {},
   "outputs": [],
   "source": []
  }
 ],
 "metadata": {
  "interpreter": {
   "hash": "7a3797ff0740a9cbadd9c600bf21f2653a6a89c7ec81ce67cdd9a6091edd8408"
  },
  "kernelspec": {
   "display_name": "Python 3.6.13 ('ml')",
   "language": "python",
   "name": "python3"
  },
  "language_info": {
   "codemirror_mode": {
    "name": "ipython",
    "version": 3
   },
   "file_extension": ".py",
   "mimetype": "text/x-python",
   "name": "python",
   "nbconvert_exporter": "python",
   "pygments_lexer": "ipython3",
   "version": "3.6.13"
  },
  "orig_nbformat": 4
 },
 "nbformat": 4,
 "nbformat_minor": 2
}
