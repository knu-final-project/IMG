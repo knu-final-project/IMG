{
 "cells": [
  {
   "cell_type": "code",
   "execution_count": 1,
   "metadata": {},
   "outputs": [
    {
     "name": "stdout",
     "output_type": "stream",
     "text": [
      "Requirement already satisfied: pyyaml==5.4.1 in c:\\users\\user\\anaconda3\\lib\\site-packages (5.4.1)\n"
     ]
    }
   ],
   "source": [
    "# !pip install pyyaml==5.4.1"
   ]
  },
  {
   "cell_type": "code",
   "execution_count": 2,
   "metadata": {},
   "outputs": [],
   "source": [
    "import os\n",
    "from glob import glob\n",
    "import yaml\n",
    "import shutil\n",
    "from IPython.display import Image"
   ]
  },
  {
   "cell_type": "code",
   "execution_count": 3,
   "metadata": {},
   "outputs": [
    {
     "data": {
      "text/plain": [
       "4303"
      ]
     },
     "execution_count": 3,
     "metadata": {},
     "output_type": "execute_result"
    }
   ],
   "source": [
    "len(glob('./dataset/labels/*'))"
   ]
  },
  {
   "cell_type": "code",
   "execution_count": 4,
   "metadata": {},
   "outputs": [
    {
     "data": {
      "text/plain": [
       "4303"
      ]
     },
     "execution_count": 4,
     "metadata": {},
     "output_type": "execute_result"
    }
   ],
   "source": [
    "img_list = glob('./dataset/images/*.jpg')\n",
    "len(img_list)"
   ]
  },
  {
   "cell_type": "code",
   "execution_count": 5,
   "metadata": {},
   "outputs": [
    {
     "name": "stdout",
     "output_type": "stream",
     "text": [
      "3442 861\n"
     ]
    }
   ],
   "source": [
    "from sklearn.model_selection import train_test_split\n",
    "train_img_list, val_img_list = train_test_split(img_list, test_size=0.2, random_state=129)\n",
    "\n",
    "print(len(train_img_list), len(val_img_list))\n"
   ]
  },
  {
   "cell_type": "code",
   "execution_count": 6,
   "metadata": {},
   "outputs": [],
   "source": [
    "with open('train.txt', 'w') as f :\n",
    "  f.write('\\n'.join(train_img_list) + '\\n')\n",
    "\n",
    "with open('val.txt', 'w') as f:\n",
    "  f.write('\\n'.join(val_img_list) + '\\n')"
   ]
  },
  {
   "cell_type": "code",
   "execution_count": 7,
   "metadata": {},
   "outputs": [
    {
     "name": "stdout",
     "output_type": "stream",
     "text": [
      "{'names': ['jabgogbab', 'baechugimchi', 'doenjangjjigae', 'gimchijjigae', 'myeolchibokk-eum', 'Sigeumchinamul', 'gajinamul', 'gosalinamul', 'miyeoggug', 'gimbab', 'bulgogi', 'aehobagbokk-eum', 'musaengchae', 'jabchae', 'mugug', 'godeung-eogu-i', 'ssalbab', 'gyelanhulai', 'gyelanmal-i'], 'nc': 19, 'train': 'train.txt', 'val': 'val.txt'}\n",
      "{'names': ['jabgogbab', 'baechugimchi', 'doenjangjjigae', 'gimchijjigae', 'myeolchibokk-eum', 'Sigeumchinamul', 'gajinamul', 'gosalinamul', 'miyeoggug', 'gimbab', 'bulgogi', 'aehobagbokk-eum', 'musaengchae', 'jabchae', 'mugug', 'godeung-eogu-i', 'ssalbab', 'gyelanhulai', 'gyelanmal-i'], 'nc': 19, 'train': 'train.txt', 'val': 'val.txt'}\n"
     ]
    },
    {
     "name": "stderr",
     "output_type": "stream",
     "text": [
      "C:\\Users\\User\\AppData\\Local\\Temp/ipykernel_1384/1497481106.py:2: YAMLLoadWarning: calling yaml.load() without Loader=... is deprecated, as the default Loader is unsafe. Please read https://msg.pyyaml.org/load for full details.\n",
      "  data = yaml.load(f)\n"
     ]
    }
   ],
   "source": [
    "with open('dataset/data.yaml', 'r') as f:\n",
    "  data = yaml.load(f)\n",
    "\n",
    "print(data)\n",
    "\n",
    "data['train'] = 'train.txt' # yolov5 경로\n",
    "data['val'] = 'val.txt' # yolov5 경로\n",
    "\n",
    "with open('dataset/data.yaml', 'w') as f:\n",
    "  yaml.dump(data, f)\n",
    "print(data)"
   ]
  },
  {
   "cell_type": "code",
   "execution_count": 26,
   "metadata": {},
   "outputs": [
    {
     "name": "stderr",
     "output_type": "stream",
     "text": [
      "\u001b[34m\u001b[1mdetect: \u001b[0mweights=['../yolov5/runs/train/food_yolov5s_results12/weights/best.pt'], source=test_img, data=..\\yolov5\\data\\coco128.yaml, imgsz=[416, 416], conf_thres=0.5, iou_thres=0.45, max_det=1000, device=, view_img=False, save_txt=True, save_conf=False, save_crop=False, nosave=False, classes=None, agnostic_nms=False, augment=False, visualize=False, update=False, project=..\\yolov5\\runs\\detect, name=exp, exist_ok=False, line_thickness=3, hide_labels=False, hide_conf=False, half=False, dnn=False, machine129=[0, 16]\n",
      "YOLOv5  v6.1-209-g1e3d6d4 Python-3.9.7 torch-1.11.0+cpu CPU\n",
      "\n",
      "Fusing layers... \n",
      "YOLOv5m summary: 290 layers, 20925672 parameters, 0 gradients\n",
      "Downloading https://ultralytics.com/assets/Arial.Unicode.ttf to C:\\Users\\User\\AppData\\Roaming\\Ultralytics\\Arial.Unicode.ttf...\n",
      "image 1/3 D:\\Final_Project\\Git_repositories\\IMG\\test_img\\밥상1.jpg: 416x416 1 ssalbab, Done. (0.357s)\n",
      "image 2/3 D:\\Final_Project\\Git_repositories\\IMG\\test_img\\밥상2.jpg: 416x320 1 miyeoggug, Done. (0.282s)\n",
      "image 3/3 D:\\Final_Project\\Git_repositories\\IMG\\test_img\\밥상3.jpg: 288x416 1 jabgogbab, Done. (0.232s)\n",
      "Speed: 1.0ms pre-process, 290.6ms inference, 1.0ms NMS per image at shape (1, 3, 416, 416)\n",
      "Results saved to \u001b[1m..\\yolov5\\runs\\detect\\exp35\u001b[0m\n",
      "3 labels saved to ..\\yolov5\\runs\\detect\\exp35\\labels\n"
     ]
    }
   ],
   "source": [
    "val_img_path = val_img_list[0]\n",
    "\n",
    "#!python /content/mnt/MyDrive/yolov5/detect.py --weights /content/mnt/MyDrive/yolov5/runs/train/food_yolov5s_results3/weights/best.pt --img 416 --conf 0.5 --source /content/mnt/MyDrive/test_galchi.jpg\n",
    "\n",
    "!python ../yolov5/detect.py --weights ../yolov5/runs/train/food_yolov5s_results12/weights/best.pt --img 416 --conf 0.5 --source test_img --save-txt --machine129 0 16"
   ]
  },
  {
   "cell_type": "code",
   "execution_count": 35,
   "metadata": {},
   "outputs": [],
   "source": [
    "label_acc = 'ssalbab 0.91'.split(' ')"
   ]
  },
  {
   "cell_type": "code",
   "execution_count": 21,
   "metadata": {},
   "outputs": [
    {
     "name": "stderr",
     "output_type": "stream",
     "text": [
      "ERROR: Could not find a version that satisfies the requirement ImageFont (from versions: none)\n",
      "ERROR: No matching distribution found for ImageFont\n"
     ]
    }
   ],
   "source": []
  },
  {
   "cell_type": "code",
   "execution_count": null,
   "metadata": {},
   "outputs": [],
   "source": []
  }
 ],
 "metadata": {
  "interpreter": {
   "hash": "f08154012ddadd8e950e6e9e035c7a7b32c136e7647e9b7c77e02eb723a8bedb"
  },
  "kernelspec": {
   "display_name": "Python 3.9.7 ('base')",
   "language": "python",
   "name": "python3"
  },
  "language_info": {
   "codemirror_mode": {
    "name": "ipython",
    "version": 3
   },
   "file_extension": ".py",
   "mimetype": "text/x-python",
   "name": "python",
   "nbconvert_exporter": "python",
   "pygments_lexer": "ipython3",
   "version": "3.9.7"
  },
  "orig_nbformat": 4
 },
 "nbformat": 4,
 "nbformat_minor": 2
}
